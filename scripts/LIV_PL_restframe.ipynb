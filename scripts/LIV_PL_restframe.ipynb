{
 "cells": [
  {
   "cell_type": "code",
   "execution_count": 1,
   "id": "8a86b58e",
   "metadata": {},
   "outputs": [
    {
     "name": "stderr",
     "output_type": "stream",
     "text": [
      "Warning: Ignoring XDG_SESSION_TYPE=wayland on Gnome. Use QT_QPA_PLATFORM=wayland to run on Wayland anyway.\n"
     ]
    }
   ],
   "source": [
    "import numpy as np\n",
    "from matplotlib import pyplot as plt\n",
    "from lmfit import Model\n",
    "from scipy import integrate\n",
    "from scipy import optimize\n",
    "from scipy.optimize import minimize\n",
    "legend_properties = {'weight':'bold'}\n",
    "%matplotlib qt"
   ]
  },
  {
   "cell_type": "code",
   "execution_count": 2,
   "id": "a5a7a469",
   "metadata": {},
   "outputs": [],
   "source": [
    "E_0 = (225.0-125.0)*1.0e-06  #convert KeV to GeV\n",
    "E_0_quad = (225.0e-06)**2 - (125.0e-06)**2\n",
    "H_0 = 67.3/(3.086e+19) # convert km/sec/Mpc to /sec\n",
    "O_M = 0.308\n",
    "O_L = 1 - O_M"
   ]
  },
  {
   "cell_type": "code",
   "execution_count": 3,
   "id": "7e50cf48",
   "metadata": {},
   "outputs": [],
   "source": [
    "data_path = \"/media/vyaas/Expansion/LIV_spectral_lag/data/GRB_WeiWu2017.txt\"\n",
    "data = np.loadtxt(data_path, usecols=(1,2,3,4))"
   ]
  },
  {
   "cell_type": "code",
   "execution_count": 4,
   "id": "5651b3b7",
   "metadata": {},
   "outputs": [
    {
     "data": {
      "text/plain": [
       "array([[ 1.44000e+00, -1.36600e+01,  1.84880e+02,  2.18760e+02],\n",
       "       [ 2.90000e+00,  2.85190e+02,  5.90500e+01,  5.91400e+01],\n",
       "       [ 6.10000e-01,  5.47200e+01,  2.54200e+01,  2.55900e+01],\n",
       "       [ 1.71000e+00,  5.55800e+02,  3.86110e+02,  3.95900e+02],\n",
       "       [ 2.20000e+00,  1.62520e+02,  7.47400e+01,  7.95000e+01],\n",
       "       [ 4.05000e+00,  2.52400e+02,  8.56500e+01,  8.81800e+01],\n",
       "       [ 3.91000e+00,  3.49990e+02,  2.33640e+02,  2.37120e+02],\n",
       "       [ 1.55000e+00,  4.25600e+01,  5.11700e+01,  5.37300e+01],\n",
       "       [ 1.92000e+00, -1.00010e+02,  1.38040e+02,  1.38730e+02],\n",
       "       [ 1.88000e+00,  2.30040e+02,  1.69950e+02,  1.75420e+02],\n",
       "       [ 9.40000e-01, -7.09000e+00,  8.25800e+01,  8.34900e+01],\n",
       "       [ 5.47000e+00,  1.42600e+01,  1.11900e+02,  1.11690e+02],\n",
       "       [ 1.26000e+00,  2.70500e+01,  2.54200e+01,  2.68800e+01],\n",
       "       [ 3.50000e-01, -6.03940e+02,  4.16220e+02,  4.03940e+02],\n",
       "       [ 1.31000e+00,  2.83600e+01,  2.00200e+01,  2.02500e+01],\n",
       "       [ 2.09000e+00,  6.07000e+00,  1.45670e+02,  1.39010e+02],\n",
       "       [ 1.50000e+00, -2.13780e+02,  2.90080e+02,  2.81920e+02],\n",
       "       [ 1.35000e+00,  4.02000e+01,  3.95100e+01,  3.90700e+01],\n",
       "       [ 2.15000e+00,  4.84700e+01,  1.07000e+01,  1.02400e+01],\n",
       "       [ 1.33000e+00,  2.58540e+02,  4.12100e+01,  4.25800e+01],\n",
       "       [ 9.40000e-01,  3.02900e+01,  2.16700e+01,  1.91800e+01],\n",
       "       [ 1.95000e+00,  2.17820e+02,  1.68480e+02,  1.71200e+02],\n",
       "       [ 1.10000e+00,  9.60000e+01,  6.19100e+01,  5.95600e+01],\n",
       "       [ 7.70000e-01,  4.40400e+01,  5.64870e+02,  6.34350e+02],\n",
       "       [ 2.69000e+00, -4.35900e+01,  6.73800e+01,  6.30100e+01],\n",
       "       [ 1.64000e+00,  5.36500e+01,  3.64600e+01,  3.73800e+01],\n",
       "       [ 3.04000e+00,  9.09900e+01,  9.14400e+01,  1.01780e+02],\n",
       "       [ 2.59000e+00, -1.58160e+02,  1.62730e+02,  1.49690e+02],\n",
       "       [ 2.20000e+00, -3.47400e+02,  6.18250e+02,  6.23990e+02],\n",
       "       [ 6.90000e-01,  5.99820e+02,  2.88570e+02,  2.90730e+02],\n",
       "       [ 2.51000e+00, -1.04100e+01,  2.45620e+02,  2.66410e+02],\n",
       "       [ 2.10000e+00, -3.92300e+01,  1.98370e+02,  1.75090e+02],\n",
       "       [ 2.26000e+00,  9.94400e+01,  7.75500e+01,  8.05600e+01],\n",
       "       [ 2.77000e+00,  1.29020e+02,  8.10400e+01,  8.63600e+01],\n",
       "       [ 1.55000e+00,  5.22530e+02,  2.78440e+02,  3.04170e+02],\n",
       "       [ 2.10000e+00, -5.69200e+01,  1.75920e+02,  1.76010e+02],\n",
       "       [ 5.40000e-01,  1.86200e+01,  4.72200e+01,  5.04400e+01],\n",
       "       [ 1.80000e+00, -3.10000e+01,  6.87100e+01,  7.10500e+01],\n",
       "       [ 3.00000e+00,  7.06600e+01,  3.04240e+02,  3.85390e+02],\n",
       "       [ 2.45000e+00,  1.68710e+02,  3.38840e+02,  3.43290e+02],\n",
       "       [ 1.24000e+00,  1.03173e+03,  8.61130e+02,  8.87570e+02],\n",
       "       [ 9.70000e-01,  1.63650e+02,  1.47370e+02,  1.49050e+02],\n",
       "       [ 1.71000e+00, -7.85800e+01,  2.82060e+02,  2.90030e+02],\n",
       "       [ 4.90000e-01,  1.57640e+02,  1.94650e+02,  1.92490e+02],\n",
       "       [ 1.06000e+00,  8.42000e+01,  3.16100e+01,  3.16000e+01],\n",
       "       [ 1.40000e+00,  1.62030e+02,  1.06600e+02,  1.08270e+02],\n",
       "       [ 5.40000e-01,  9.24740e+02,  7.27390e+02,  6.77680e+02],\n",
       "       [ 2.11000e+00, -1.15000e+02,  4.56440e+02,  4.06260e+02],\n",
       "       [ 2.22000e+00, -1.25630e+02,  1.36210e+02,  1.44660e+02],\n",
       "       [ 1.61000e+00,  4.67700e+01,  8.21500e+01,  8.56500e+01],\n",
       "       [ 5.50000e-01, -1.85000e+00,  2.32000e+00,  2.47000e+00],\n",
       "       [ 9.20000e-01,  5.58000e+00,  3.50100e+01,  3.15600e+01],\n",
       "       [ 9.00000e-01, -7.99000e+00,  8.40000e+00,  8.63000e+00],\n",
       "       [ 7.20000e-01, -2.00000e-02,  2.17700e+01,  2.24200e+01],\n",
       "       [ 1.30000e+00,  3.24000e+00,  1.07000e+01,  1.01000e+01],\n",
       "       [ 3.60000e-01, -3.44000e+00,  5.58000e+00,  7.27000e+00]])"
      ]
     },
     "execution_count": 4,
     "metadata": {},
     "output_type": "execute_result"
    }
   ],
   "source": [
    "data"
   ]
  },
  {
   "cell_type": "code",
   "execution_count": 5,
   "id": "3949b9a9",
   "metadata": {},
   "outputs": [],
   "source": [
    "z = data[:, 0]\n",
    "del_t_obs = data[:, 1]*1.0e-03\n",
    "sigma_l = data[:, 2]*1.0e-03\n",
    "sigma_r = data[:, 3]*1.0e-03"
   ]
  },
  {
   "cell_type": "code",
   "execution_count": 6,
   "id": "3eae25f6",
   "metadata": {},
   "outputs": [],
   "source": [
    "sigma_del_t = (sigma_l + sigma_r)/2"
   ]
  },
  {
   "cell_type": "code",
   "execution_count": 7,
   "id": "9d5e359b",
   "metadata": {},
   "outputs": [],
   "source": [
    "rescaled_del_t_obs = del_t_obs /(1+z)"
   ]
  },
  {
   "cell_type": "code",
   "execution_count": 8,
   "id": "11589da1",
   "metadata": {},
   "outputs": [],
   "source": [
    "n=1\n",
    "\n",
    "def integrand_linear(i):\n",
    "    return ((1+i)**n/np.sqrt((O_M*(1+i)**3)+O_L))"
   ]
  },
  {
   "cell_type": "code",
   "execution_count": 9,
   "id": "d378716e",
   "metadata": {},
   "outputs": [],
   "source": [
    "m=2\n",
    "\n",
    "def integrand_quad(i):\n",
    "    return ((1+i)**m/np.sqrt((O_M*(1+i)**3)+O_L))"
   ]
  },
  {
   "cell_type": "code",
   "execution_count": 10,
   "id": "114b2091",
   "metadata": {},
   "outputs": [],
   "source": [
    "k_linear = []\n",
    "k_quad = []\n",
    "\n",
    "for _z in z:\n",
    "    I1, error = integrate.quad(integrand_linear, 0, _z)\n",
    "    I2, error = integrate.quad(integrand_quad, 0, _z)\n",
    "    value_lin = (1/(1+_z)**2)*I1\n",
    "    value_quad = (1/(1+_z)**3)*I2\n",
    "    k_linear.append(value_lin)\n",
    "    k_quad.append(value_quad)\n",
    "    \n",
    "K_linear = np.array(k_linear)\n",
    "K_quad = np.array(k_quad)"
   ]
  },
  {
   "cell_type": "code",
   "execution_count": 11,
   "id": "ba9690b7",
   "metadata": {},
   "outputs": [
    {
     "data": {
      "text/plain": [
       "(array([0.26857874, 0.19923748, 0.25862883, 0.25653421, 0.23210355,\n",
       "        0.15682452, 0.16124821, 0.26394386, 0.24617459, 0.2481775 ,\n",
       "        0.2781637 , 0.12090287, 0.27482188, 0.20569902, 0.27329968,\n",
       "        0.23761832, 0.26610924, 0.27195398, 0.23460466, 0.27264007,\n",
       "        0.2781637 , 0.24466776, 0.27816009, 0.27243801, 0.20857841,\n",
       "        0.2598509 , 0.19328979, 0.21319707, 0.23210355, 0.26679943,\n",
       "        0.21696652, 0.23711533, 0.22911906, 0.20496155, 0.26394386,\n",
       "        0.23711533, 0.24891094, 0.25214992, 0.19496605, 0.21983451,\n",
       "        0.27537534, 0.27849097, 0.25653421, 0.2402009 , 0.27853271,\n",
       "        0.27013288, 0.24891094, 0.23661259, 0.23110647, 0.26123952,\n",
       "        0.25046606, 0.27784683, 0.27744585, 0.2691813 , 0.27361905,\n",
       "        0.20875175]),\n",
       " array([0.18966883, 0.12240542, 0.2106734 , 0.17530155, 0.15086932,\n",
       "        0.08996389, 0.09316782, 0.18381398, 0.16443611, 0.16646657,\n",
       "        0.21192796, 0.0653026 , 0.19893267, 0.17953352, 0.19642765,\n",
       "        0.15605668, 0.18648202, 0.19437889, 0.15320343, 0.19540759,\n",
       "        0.21192796, 0.16292723, 0.20629604, 0.21436115, 0.13013777,\n",
       "        0.17901268, 0.11760517, 0.13405582, 0.15086932, 0.21346661,\n",
       "        0.1373039 , 0.15557722, 0.14812157, 0.12711442, 0.18381398,\n",
       "        0.15557722, 0.20619561, 0.17058646, 0.11894882, 0.13980739,\n",
       "        0.19991343, 0.21106089, 0.17530155, 0.20153082, 0.20791133,\n",
       "        0.19177589, 0.20619561, 0.15509933, 0.14994693, 0.18061092,\n",
       "        0.2069716 , 0.21244583, 0.21291129, 0.21399695, 0.1969341 ,\n",
       "        0.18164656]))"
      ]
     },
     "execution_count": 11,
     "metadata": {},
     "output_type": "execute_result"
    }
   ],
   "source": [
    "K_linear, K_quad"
   ]
  },
  {
   "cell_type": "code",
   "execution_count": 12,
   "id": "c7290c6e",
   "metadata": {},
   "outputs": [],
   "source": [
    "def chi2_n0(theta, E, err):\n",
    "    t, a = theta\n",
    "    model = t*(E**a - E_0**a)\n",
    "    term = (t_obs-model)/err\n",
    "    return np.sum(term ** 2)"
   ]
  },
  {
   "cell_type": "code",
   "execution_count": 13,
   "id": "06012e79",
   "metadata": {},
   "outputs": [],
   "source": [
    "def chi2_n1(theta, E_qg, E, err):                                                                                               \n",
    "    t, a  = theta                                                                                                    \n",
    "    model = t*(E**a - E_0**a) + (-(1+n)/(2*H_0*3.24))*(E**n-E_0**n)*I1*(10**14)/(E_qg**n)                                          \n",
    "    term = (t_obs-model)/err                                                                                              \n",
    "    return np.sum(term ** 2)"
   ]
  },
  {
   "cell_type": "code",
   "execution_count": 14,
   "id": "61a1be73",
   "metadata": {},
   "outputs": [],
   "source": [
    "def chi2_wei(theta, E_qg, del_T, z, sigma_del_T, k):\n",
    "    b, sigma_int = theta\n",
    "    a_liv = E_0/(1.0*H_0*E_qg)\n",
    "    model = a_liv*k + b\n",
    "    term_num = ((del_T/(1+z)) - (model))**2\n",
    "    term_den = (sigma_int**2) + ((sigma_del_T/(1+z))**2)\n",
    "    term = term_num/term_den\n",
    "    return np.sum(term)"
   ]
  },
  {
   "cell_type": "code",
   "execution_count": 15,
   "id": "3bf8abcb",
   "metadata": {},
   "outputs": [],
   "source": [
    "def chi2_from_likelihood(theta, E_qg, del_T, z, sigma_del_T, k):\n",
    "    b, sigma_int = theta\n",
    "    a_liv = E_0/(1.0*H_0*E_qg)\n",
    "    model = a_liv*k + b\n",
    "    term_num = ((del_T/(1+z)) - (model))**2\n",
    "    term_den = (sigma_int**2) + ((sigma_del_T/(1+z))**2)\n",
    "    term1 = -2*np.log(1/np.sqrt(sigma_int**2 + ((sigma_del_T/(1+z))**2)))\n",
    "    term2 = term_num/term_den\n",
    "    return np.sum(term1 + term2)"
   ]
  },
  {
   "cell_type": "code",
   "execution_count": 16,
   "id": "96fc8444",
   "metadata": {},
   "outputs": [],
   "source": [
    "def chi2_from_likelihood_quad(theta, E_qg, del_T, z, sigma_del_T, k):\n",
    "    b, sigma_int = theta\n",
    "    a_liv = (3.0*E_0_quad)/(2.0*H_0*(E_qg**2))\n",
    "    model = a_liv*k + b\n",
    "    term_num = ((del_T/(1+z)) - (model))**2\n",
    "    term_den = (sigma_int**2) + ((sigma_del_T/(1+z))**2)\n",
    "    term1 = -2*np.log(1/np.sqrt(sigma_int**2 + ((sigma_del_T/(1+z))**2)))\n",
    "    term2 = term_num/term_den\n",
    "    return np.sum(term1 + term2)"
   ]
  },
  {
   "cell_type": "code",
   "execution_count": 17,
   "id": "60c0832e",
   "metadata": {},
   "outputs": [
    {
     "name": "stdout",
     "output_type": "stream",
     "text": [
      "[1.00000000e+05 3.83118685e+05 1.46779927e+06 5.62341325e+06\n",
      " 2.15443469e+07 8.25404185e+07 3.16227766e+08 1.21152766e+09\n",
      " 4.64158883e+09 1.77827941e+10 6.81292069e+10 2.61015722e+11\n",
      " 1.00000000e+12 3.83118685e+12 1.46779927e+13 5.62341325e+13\n",
      " 2.15443469e+14 8.25404185e+14 3.16227766e+15 1.21152766e+16\n",
      " 4.64158883e+16 1.77827941e+17 6.81292069e+17 2.61015722e+18\n",
      " 1.00000000e+19]\n"
     ]
    }
   ],
   "source": [
    "x = np.logspace(5,19,25)\n",
    "print(x)"
   ]
  },
  {
   "cell_type": "code",
   "execution_count": 18,
   "id": "2d808d88",
   "metadata": {},
   "outputs": [
    {
     "name": "stdout",
     "output_type": "stream",
     "text": [
      "Optimization terminated successfully.\n",
      "         Current function value: 1910.723734\n",
      "         Iterations: 206\n",
      "         Function evaluations: 418\n",
      "Optimization terminated successfully.\n",
      "         Current function value: 1760.288174\n",
      "         Iterations: 190\n",
      "         Function evaluations: 382\n",
      "Optimization terminated successfully.\n",
      "         Current function value: 1609.852613\n",
      "         Iterations: 183\n",
      "         Function evaluations: 369\n",
      "Optimization terminated successfully.\n",
      "         Current function value: 1459.417046\n",
      "         Iterations: 167\n",
      "         Function evaluations: 332\n",
      "Optimization terminated successfully.\n",
      "         Current function value: 1308.981458\n",
      "         Iterations: 157\n",
      "         Function evaluations: 311\n",
      "Optimization terminated successfully.\n",
      "         Current function value: 1158.545788\n",
      "         Iterations: 152\n",
      "         Function evaluations: 299\n",
      "Optimization terminated successfully.\n",
      "         Current function value: 1008.109804\n",
      "         Iterations: 141\n",
      "         Function evaluations: 268\n",
      "Optimization terminated successfully.\n",
      "         Current function value: 857.672620\n",
      "         Iterations: 133\n",
      "         Function evaluations: 251\n",
      "Optimization terminated successfully.\n",
      "         Current function value: 707.230843\n",
      "         Iterations: 117\n",
      "         Function evaluations: 225\n",
      "Optimization terminated successfully.\n",
      "         Current function value: 556.771581\n",
      "         Iterations: 108\n",
      "         Function evaluations: 208\n",
      "Optimization terminated successfully.\n",
      "         Current function value: 406.246944\n",
      "         Iterations: 92\n",
      "         Function evaluations: 178\n",
      "Optimization terminated successfully.\n",
      "         Current function value: 255.496497\n",
      "         Iterations: 86\n",
      "         Function evaluations: 162\n",
      "Optimization terminated successfully.\n",
      "         Current function value: 104.279739\n",
      "         Iterations: 72\n",
      "         Function evaluations: 139\n",
      "Optimization terminated successfully.\n",
      "         Current function value: -43.646366\n",
      "         Iterations: 66\n",
      "         Function evaluations: 124\n",
      "Optimization terminated successfully.\n",
      "         Current function value: -168.646744\n",
      "         Iterations: 53\n",
      "         Function evaluations: 103\n",
      "Optimization terminated successfully.\n",
      "         Current function value: -249.267959\n",
      "         Iterations: 46\n",
      "         Function evaluations: 89\n",
      "Optimization terminated successfully.\n",
      "         Current function value: -274.722605\n",
      "         Iterations: 37\n",
      "         Function evaluations: 69\n",
      "Optimization terminated successfully.\n",
      "         Current function value: -278.023664\n",
      "         Iterations: 31\n",
      "         Function evaluations: 59\n",
      "Optimization terminated successfully.\n",
      "         Current function value: -278.402406\n",
      "         Iterations: 23\n",
      "         Function evaluations: 45\n",
      "Optimization terminated successfully.\n",
      "         Current function value: -278.464227\n",
      "         Iterations: 27\n",
      "         Function evaluations: 50\n",
      "Optimization terminated successfully.\n",
      "         Current function value: -278.477786\n",
      "         Iterations: 24\n",
      "         Function evaluations: 42\n",
      "Optimization terminated successfully.\n",
      "         Current function value: -278.481178\n",
      "         Iterations: 24\n",
      "         Function evaluations: 42\n",
      "Optimization terminated successfully.\n",
      "         Current function value: -278.482038\n",
      "         Iterations: 24\n",
      "         Function evaluations: 43\n",
      "Optimization terminated successfully.\n",
      "         Current function value: -278.482272\n",
      "         Iterations: 24\n",
      "         Function evaluations: 43\n",
      "Optimization terminated successfully.\n",
      "         Current function value: -278.482332\n",
      "         Iterations: 24\n",
      "         Function evaluations: 43\n",
      "Length of params n=1 :  25\n"
     ]
    }
   ],
   "source": [
    "theta_guess = [0.03, 0.03]\n",
    "params_linear = [optimize.fmin(chi2_from_likelihood, theta_guess, args=(E_QG, del_t_obs, z, sigma_del_t, K_linear), maxfun=5000) for E_QG in x]\n",
    "print(\"Length of params n=1 : \", len(params_linear))"
   ]
  },
  {
   "cell_type": "code",
   "execution_count": 19,
   "id": "053616f4",
   "metadata": {},
   "outputs": [
    {
     "name": "stdout",
     "output_type": "stream",
     "text": [
      "Optimization terminated successfully.\n",
      "         Current function value: -185.955776\n",
      "         Iterations: 45\n",
      "         Function evaluations: 88\n",
      "Optimization terminated successfully.\n",
      "         Current function value: -274.787698\n",
      "         Iterations: 39\n",
      "         Function evaluations: 76\n",
      "Optimization terminated successfully.\n",
      "         Current function value: -278.325189\n",
      "         Iterations: 38\n",
      "         Function evaluations: 75\n",
      "Optimization terminated successfully.\n",
      "         Current function value: -278.472132\n",
      "         Iterations: 39\n",
      "         Function evaluations: 77\n",
      "Optimization terminated successfully.\n",
      "         Current function value: -278.481655\n",
      "         Iterations: 39\n",
      "         Function evaluations: 76\n",
      "Optimization terminated successfully.\n",
      "         Current function value: -278.482286\n",
      "         Iterations: 38\n",
      "         Function evaluations: 74\n",
      "Optimization terminated successfully.\n",
      "         Current function value: -278.482329\n",
      "         Iterations: 38\n",
      "         Function evaluations: 74\n",
      "Optimization terminated successfully.\n",
      "         Current function value: -278.482332\n",
      "         Iterations: 38\n",
      "         Function evaluations: 74\n",
      "Optimization terminated successfully.\n",
      "         Current function value: -278.482332\n",
      "         Iterations: 38\n",
      "         Function evaluations: 74\n",
      "Optimization terminated successfully.\n",
      "         Current function value: -278.482332\n",
      "         Iterations: 38\n",
      "         Function evaluations: 74\n",
      "Optimization terminated successfully.\n",
      "         Current function value: -278.482332\n",
      "         Iterations: 38\n",
      "         Function evaluations: 74\n",
      "Optimization terminated successfully.\n",
      "         Current function value: -278.482332\n",
      "         Iterations: 38\n",
      "         Function evaluations: 74\n",
      "Optimization terminated successfully.\n",
      "         Current function value: -278.482332\n",
      "         Iterations: 38\n",
      "         Function evaluations: 74\n",
      "Optimization terminated successfully.\n",
      "         Current function value: -278.482332\n",
      "         Iterations: 38\n",
      "         Function evaluations: 74\n",
      "Optimization terminated successfully.\n",
      "         Current function value: -278.482332\n",
      "         Iterations: 38\n",
      "         Function evaluations: 74\n",
      "Optimization terminated successfully.\n",
      "         Current function value: -278.482332\n",
      "         Iterations: 38\n",
      "         Function evaluations: 74\n",
      "Optimization terminated successfully.\n",
      "         Current function value: -278.482332\n",
      "         Iterations: 38\n",
      "         Function evaluations: 74\n",
      "Optimization terminated successfully.\n",
      "         Current function value: -278.482332\n",
      "         Iterations: 38\n",
      "         Function evaluations: 74\n",
      "Optimization terminated successfully.\n",
      "         Current function value: -278.482332\n",
      "         Iterations: 38\n",
      "         Function evaluations: 74\n",
      "Optimization terminated successfully.\n",
      "         Current function value: -278.482332\n",
      "         Iterations: 38\n",
      "         Function evaluations: 74\n",
      "Optimization terminated successfully.\n",
      "         Current function value: -278.482332\n",
      "         Iterations: 38\n",
      "         Function evaluations: 74\n",
      "Optimization terminated successfully.\n",
      "         Current function value: -278.482332\n",
      "         Iterations: 38\n",
      "         Function evaluations: 74\n",
      "Optimization terminated successfully.\n",
      "         Current function value: -278.482332\n",
      "         Iterations: 38\n",
      "         Function evaluations: 74\n",
      "Optimization terminated successfully.\n",
      "         Current function value: -278.482332\n",
      "         Iterations: 38\n",
      "         Function evaluations: 74\n",
      "Optimization terminated successfully.\n",
      "         Current function value: -278.482332\n",
      "         Iterations: 38\n",
      "         Function evaluations: 74\n",
      "Length of params n=2 :  25\n"
     ]
    }
   ],
   "source": [
    "theta_guess = [0.3, 0.3]\n",
    "params_quad = [optimize.fmin(chi2_from_likelihood_quad, theta_guess, args=(E_QG, del_t_obs, z, sigma_del_t, K_quad), maxfun=5000) for E_QG in x]\n",
    "print(\"Length of params n=2 : \", len(params_quad))"
   ]
  },
  {
   "cell_type": "code",
   "execution_count": 20,
   "id": "9d2f21d4",
   "metadata": {},
   "outputs": [
    {
     "name": "stdout",
     "output_type": "stream",
     "text": [
      "[5.00852343e+03 4.85808801e+03 4.70765245e+03 4.55721738e+03\n",
      " 4.40678315e+03 4.25635318e+03 4.10593892e+03 3.95558546e+03\n",
      " 3.80546242e+03 3.65622029e+03 3.51023085e+03 3.37517529e+03\n",
      " 3.25482139e+03 2.91319332e+03 1.95960269e+03 7.85234079e+02\n",
      " 1.11931644e+02 8.71641543e+00 6.10047500e-01 4.23094273e-02\n",
      " 3.48717533e-03 1.76095483e-04 2.30335738e-05 0.00000000e+00\n",
      " 0.00000000e+00]\n"
     ]
    }
   ],
   "source": [
    "for E_QG in x:\n",
    "    chi2_n1_values = [chi2_from_likelihood(ps, E_QG, del_t_obs, z, sigma_del_t, K_linear) for ps in params_linear]\n",
    "\n",
    "chi2min_n1 = min(chi2_n1_values)\n",
    "\n",
    "print(chi2_n1_values-chi2min_n1)"
   ]
  },
  {
   "cell_type": "code",
   "execution_count": 21,
   "id": "548061ab",
   "metadata": {},
   "outputs": [
    {
     "name": "stdout",
     "output_type": "stream",
     "text": [
      "[8.49277722e+02 3.41571683e+01 1.82567164e-01 6.93230002e-04\n",
      " 0.00000000e+00 0.00000000e+00 0.00000000e+00 0.00000000e+00\n",
      " 0.00000000e+00 0.00000000e+00 0.00000000e+00 0.00000000e+00\n",
      " 0.00000000e+00 0.00000000e+00 0.00000000e+00 0.00000000e+00\n",
      " 0.00000000e+00 0.00000000e+00 0.00000000e+00 0.00000000e+00\n",
      " 0.00000000e+00 0.00000000e+00 0.00000000e+00 0.00000000e+00\n",
      " 0.00000000e+00]\n"
     ]
    }
   ],
   "source": [
    "for E_QG in x:\n",
    "    chi2_n2_values = [chi2_from_likelihood_quad(ps, E_QG, del_t_obs, z, sigma_del_t, K_quad) for ps in params_quad]\n",
    "\n",
    "chi2min_n2 = min(chi2_n2_values)\n",
    "\n",
    "print (chi2_n2_values-chi2min_n2)"
   ]
  },
  {
   "cell_type": "code",
   "execution_count": 22,
   "id": "87cd0328",
   "metadata": {},
   "outputs": [
    {
     "name": "stderr",
     "output_type": "stream",
     "text": [
      "<>:5: SyntaxWarning: invalid escape sequence '\\D'\n",
      "<>:5: SyntaxWarning: invalid escape sequence '\\D'\n",
      "/tmp/ipykernel_6688/3208720070.py:5: SyntaxWarning: invalid escape sequence '\\D'\n",
      "  plt.ylabel('$\\Delta \\chi^2$',fontsize=14,fontweight='bold')\n"
     ]
    }
   ],
   "source": [
    "#plt.figure()\n",
    "#ax=plt.axes([0.17,0.17,0.8,0.8])\n",
    "plt.loglog(x,chi2_n1_values-chi2min_n1,'k-*',lw=2)\n",
    "plt.xlabel('$E_{QG}$ (GeV)',fontsize=14,fontweight='bold')\n",
    "plt.ylabel('$\\Delta \\chi^2$',fontsize=14,fontweight='bold')\n",
    "plt.legend(['n=1 LIV'],fontsize=14,frameon=False)\n",
    "#plt.tick_params(labelsize=18)\n",
    "plt.axhline(y=4.0,color='magenta',lw=2,linestyle='--')\n",
    "#plt.axhline(x=1.0e+17,color='magenta',lw=2,linestyle='--')\n",
    "#plt.gca().set_ylim(bottom=5.0e-05)\n",
    "plt.vlines(x=1.22326e+15,ymin=1.0e-05,ymax=4.0,linestyles='dotted',color='magenta',lw=2)\n",
    "plt.xlim(1e5, 1e19)\n",
    "plt.grid(True)\n",
    "plt.show()\n",
    "#plt.savefig('linearLIV_95cl.pdf')"
   ]
  },
  {
   "cell_type": "code",
   "execution_count": 23,
   "id": "98732c8e",
   "metadata": {},
   "outputs": [
    {
     "name": "stderr",
     "output_type": "stream",
     "text": [
      "<>:5: SyntaxWarning: invalid escape sequence '\\D'\n",
      "<>:5: SyntaxWarning: invalid escape sequence '\\D'\n",
      "/tmp/ipykernel_6688/2423382261.py:5: SyntaxWarning: invalid escape sequence '\\D'\n",
      "  plt.ylabel('$\\Delta \\chi^2$',fontsize=14,fontweight='bold')\n"
     ]
    }
   ],
   "source": [
    "#plt.figure()\n",
    "#ax=plt.axes([0.17,0.17,0.8,0.8])\n",
    "plt.loglog(x,chi2_n2_values-chi2min_n2,'k-*',lw=2)\n",
    "plt.xlabel('$E_{QG}$ (GeV)',fontsize=14,fontweight='bold')\n",
    "plt.ylabel('$\\Delta \\chi^2$',fontsize=14,fontweight='bold')\n",
    "plt.legend(['n=2 LIV'],fontsize=14,frameon=False)\n",
    "#plt.tick_params(labelsize=18)\n",
    "plt.axhline(y=4.0,color='magenta',lw=2,linestyle='--')\n",
    "#plt.axhline(x=1.0e+17,color='magenta',lw=2,linestyle='--')\n",
    "#plt.gca().set_ylim(bottom=5.0e-05)\n",
    "plt.vlines(x=6.64460e+5,ymin=1.0e-05,ymax=4.0,linestyles='dotted',color='magenta',lw=2)\n",
    "plt.xlim(1e5, 1e10)\n",
    "plt.grid(True)\n",
    "plt.show()\n",
    "#plt.savefig('quadLIV_95cl.pdf')"
   ]
  },
  {
   "cell_type": "markdown",
   "id": "612f5982",
   "metadata": {},
   "source": [
    "## Minimizing chi2 with the 95% cl lower limit values of E_{QG}"
   ]
  },
  {
   "cell_type": "code",
   "execution_count": 24,
   "id": "2fc90a45",
   "metadata": {},
   "outputs": [],
   "source": [
    "Eqg_95cl_n1 = 1.22326e+15\n",
    "Eqg_95cl_n2 = 6.64460e+5"
   ]
  },
  {
   "cell_type": "code",
   "execution_count": 25,
   "id": "f7b24b8a",
   "metadata": {},
   "outputs": [],
   "source": [
    "def chi2_from_eq9(theta, E_qg, del_T, z, sigma_del_T, k):\n",
    "    b, sigma_int = theta\n",
    "    a_liv = E_0/(1.0*H_0*E_qg)\n",
    "    model = a_liv*k + b\n",
    "    term_num = ((del_T/(1+z)) - (model))**2\n",
    "    term_den = (sigma_int**2) + ((sigma_del_T/(1+z))**2)\n",
    "    #term1 = -2*np.log(1/np.sqrt(sigma_int**2 + ((sigma_del_T/(1+z))**2)))\n",
    "    term2 = term_num/term_den\n",
    "    return np.sum(term2)"
   ]
  },
  {
   "cell_type": "code",
   "execution_count": 26,
   "id": "5c94146f",
   "metadata": {},
   "outputs": [],
   "source": [
    "def chi2_from_eq9_quad(theta, E_qg, del_T, z, sigma_del_T, k):\n",
    "    b, sigma_int = theta\n",
    "    a_liv = (3.0*E_0_quad)/(2.0*H_0*(E_qg**2))\n",
    "    model = a_liv*k + b\n",
    "    term_num = ((del_T/(1+z)) - (model))**2\n",
    "    term_den = (sigma_int**2) + ((sigma_del_T/(1+z))**2)\n",
    "    #term1 = -2*np.log(1/np.sqrt(sigma_int**2 + ((sigma_del_T/(1+z))**2)))\n",
    "    term2 = term_num/term_den\n",
    "    return np.sum(term2)"
   ]
  },
  {
   "cell_type": "code",
   "execution_count": 27,
   "id": "4079f089",
   "metadata": {},
   "outputs": [
    {
     "name": "stdout",
     "output_type": "stream",
     "text": [
      "Optimization terminated successfully.\n",
      "         Current function value: -278.217697\n",
      "         Iterations: 27\n",
      "         Function evaluations: 53\n",
      "b, sigma_int :  [0.0096268  0.02033102]\n",
      "$\\chi^2$/DOF -- from eq9 =  53.68669768274461 / 54 =  0.9941981052360113\n"
     ]
    }
   ],
   "source": [
    "theta_guess = [0.03, 0.03]\n",
    "params_linear_opt = optimize.fmin(chi2_from_likelihood, theta_guess, args=(Eqg_95cl_n1, del_t_obs, z, sigma_del_t, K_linear), maxfun=5000)\n",
    "print(\"b, sigma_int : \", params_linear_opt)\n",
    "print(r\"$\\chi^2$/DOF -- from eq9 = \", chi2_from_eq9(params_linear_opt, Eqg_95cl_n1, del_t_obs, z, sigma_del_t, K_linear), \"/ 54 = \", chi2_from_eq9(params_linear_opt, Eqg_95cl_n1, del_t_obs, z, sigma_del_t, K_linear)/(56-2))"
   ]
  },
  {
   "cell_type": "code",
   "execution_count": 28,
   "id": "a7b62a5e",
   "metadata": {},
   "outputs": [
    {
     "name": "stdout",
     "output_type": "stream",
     "text": [
      "Optimization terminated successfully.\n",
      "         Current function value: -277.572544\n",
      "         Iterations: 38\n",
      "         Function evaluations: 76\n",
      "b, sigma_int :  [ 0.00932272 -0.02085184]\n",
      "$\\chi^2$/DOF -- from eq9 =  53.33185530821507 / 54 =  0.9876269501521309\n"
     ]
    }
   ],
   "source": [
    "theta_guess = [0.3, 0.3]\n",
    "params_quad_opt = optimize.fmin(chi2_from_likelihood_quad, theta_guess, args=(Eqg_95cl_n2, del_t_obs, z, sigma_del_t, K_quad), maxfun=5000)\n",
    "print(\"b, sigma_int : \", params_quad_opt)\n",
    "print(r\"$\\chi^2$/DOF -- from eq9 = \", chi2_from_eq9_quad(params_quad_opt, Eqg_95cl_n2, del_t_obs, z, sigma_del_t, K_quad), \"/ 54 = \", chi2_from_eq9_quad(params_quad_opt, Eqg_95cl_n2, del_t_obs, z, sigma_del_t, K_quad)/(56-2))"
   ]
  },
  {
   "cell_type": "markdown",
   "id": "924f6f27",
   "metadata": {},
   "source": [
    "## Minimizing chi2 at the Planck energy"
   ]
  },
  {
   "cell_type": "code",
   "execution_count": 29,
   "id": "38aac347",
   "metadata": {},
   "outputs": [
    {
     "name": "stdout",
     "output_type": "stream",
     "text": [
      "Optimization terminated successfully.\n",
      "         Current function value: -278.482332\n",
      "         Iterations: 24\n",
      "         Function evaluations: 43\n",
      "b, sigma_int :  [0.01875479 0.0200804 ]\n",
      "$\\chi^2$/DOF -- from eq9 =  53.90573837118531 / 54 =  0.9982544142812094\n"
     ]
    }
   ],
   "source": [
    "theta_guess = [0.03, 0.03]\n",
    "params_linear_pl = optimize.fmin(chi2_from_likelihood, theta_guess, args=(1e19, del_t_obs, z, sigma_del_t, K_linear), maxfun=5000)\n",
    "print(\"b, sigma_int : \", params_linear_pl)\n",
    "print(r\"$\\chi^2$/DOF -- from eq9 = \", chi2_from_eq9(params_linear_pl, 1e19, del_t_obs, z, sigma_del_t, K_linear), \"/ 54 = \", chi2_from_eq9(params_linear_pl, 1e19, del_t_obs, z, sigma_del_t, K_linear)/(56-2))"
   ]
  },
  {
   "cell_type": "code",
   "execution_count": 30,
   "id": "188a499f",
   "metadata": {},
   "outputs": [
    {
     "name": "stdout",
     "output_type": "stream",
     "text": [
      "Optimization terminated successfully.\n",
      "         Current function value: -278.482332\n",
      "         Iterations: 38\n",
      "         Function evaluations: 74\n",
      "b, sigma_int :  [0.01872501 0.02005716]\n",
      "$\\chi^2$/DOF -- from eq9 =  53.95066648465478 / 54 =  0.999086416382496\n"
     ]
    }
   ],
   "source": [
    "theta_guess = [0.3, 0.3]\n",
    "params_quad_pl = optimize.fmin(chi2_from_likelihood_quad, theta_guess, args=(1e19, del_t_obs, z, sigma_del_t, K_quad), maxfun=5000)\n",
    "print(\"b, sigma_int : \", params_quad_pl)\n",
    "print(r\"$\\chi^2$/DOF -- from eq9 = \", chi2_from_eq9_quad(params_quad_pl, 1e19, del_t_obs, z, sigma_del_t, K_quad), \"/ 54 = \", chi2_from_eq9_quad(params_quad_pl, 1e19, del_t_obs, z, sigma_del_t, K_quad)/(56-2))"
   ]
  },
  {
   "cell_type": "markdown",
   "id": "2f099eeb",
   "metadata": {},
   "source": [
    "## Plotting dependence of the rescaled time lag on K(z)"
   ]
  },
  {
   "cell_type": "code",
   "execution_count": 31,
   "id": "f03573d9",
   "metadata": {},
   "outputs": [],
   "source": [
    "def best_fit_linear(b, Eqg):\n",
    "    a_liv = E_0/(1.0*H_0*Eqg)\n",
    "    x = np.linspace(0.12, 0.28, 1000)\n",
    "    return a_liv*x + b"
   ]
  },
  {
   "cell_type": "code",
   "execution_count": 32,
   "id": "80bb6f9f",
   "metadata": {},
   "outputs": [],
   "source": [
    "plt.title('Rescaled time lag dependence on K(z)-linear')\n",
    "plt.xlabel('K(z)')\n",
    "plt.ylabel('Rescaled spectral time lag')\n",
    "plt.errorbar(K_linear, rescaled_del_t_obs, yerr=sigma_del_t, fmt='rx', capsize=0, markersize=4, linestyle='None')\n",
    "plt.plot(np.linspace(0.12, 0.28, 1000), best_fit_linear(params_linear_opt[0], Eqg_95cl_n1), color='blue')\n",
    "plt.grid(True)\n",
    "plt.tight_layout()\n",
    "plt.show()"
   ]
  },
  {
   "cell_type": "markdown",
   "id": "563d5db7",
   "metadata": {},
   "source": [
    "## Testing minimizers for n=2"
   ]
  },
  {
   "cell_type": "code",
   "execution_count": null,
   "id": "f96d914b",
   "metadata": {},
   "outputs": [],
   "source": [
    "theta_guess = [0.3, 0.3]\n",
    "params = [\n",
    "    optimize.minimize(\n",
    "        chi2_from_likelihood_quad, \n",
    "        theta_guess, \n",
    "        args=(E_QG, del_t_obs, z, sigma_del_t, K_quad), \n",
    "        method=\"Powell\",  # Change this to any method you want (e.g., \"BFGS\", \"Powell\", \"L-BFGS-B\")\n",
    "        options={\"maxiter\": 20000, \"disp\": True}\n",
    "    ) \n",
    "    for E_QG in x\n",
    "]\n",
    "\n",
    "params = [obj.x for obj in params]"
   ]
  },
  {
   "cell_type": "code",
   "execution_count": null,
   "id": "d2029edd",
   "metadata": {},
   "outputs": [],
   "source": []
  }
 ],
 "metadata": {
  "kernelspec": {
   "display_name": "Python [conda env:liv] *",
   "language": "python",
   "name": "conda-env-liv-py"
  },
  "language_info": {
   "codemirror_mode": {
    "name": "ipython",
    "version": 3
   },
   "file_extension": ".py",
   "mimetype": "text/x-python",
   "name": "python",
   "nbconvert_exporter": "python",
   "pygments_lexer": "ipython3",
   "version": "3.13.1"
  }
 },
 "nbformat": 4,
 "nbformat_minor": 5
}
